{
  "nbformat": 4,
  "nbformat_minor": 0,
  "metadata": {
    "colab": {
      "name": "Intro to matplotlib.ipynb",
      "provenance": [],
      "authorship_tag": "ABX9TyOIw3uznjEEHP0r1H9on5CM",
      "include_colab_link": true
    },
    "kernelspec": {
      "name": "python3",
      "display_name": "Python 3"
    }
  },
  "cells": [
    {
      "cell_type": "markdown",
      "metadata": {
        "id": "view-in-github",
        "colab_type": "text"
      },
      "source": [
        "<a href=\"https://colab.research.google.com/github/Santocodes/VIZ-Shizz/blob/master/Intro_to_matplotlib.ipynb\" target=\"_parent\"><img src=\"https://colab.research.google.com/assets/colab-badge.svg\" alt=\"Open In Colab\"/></a>"
      ]
    },
    {
      "cell_type": "markdown",
      "metadata": {
        "id": "JaapqdJmH4M0",
        "colab_type": "text"
      },
      "source": [
        "##Matplotlib contains 3 layers The backend layer, the artist layer and the scripting layer."
      ]
    },
    {
      "cell_type": "markdown",
      "metadata": {
        "id": "ybzkTxXGHsU7",
        "colab_type": "text"
      },
      "source": [
        "### Histogram using the Artist Layer\n",
        "\n"
      ]
    },
    {
      "cell_type": "code",
      "metadata": {
        "id": "ENsxUJx7IWoQ",
        "colab_type": "code",
        "colab": {}
      },
      "source": [
        "from matplotlib.backends.backend_agg import FigureCanvasAgg as FigureCanvas  #import figurecanvas\n",
        "#figurecanvas agg is a high performance library that produced high perfromance images\n",
        "from matplotlib.figure import Figure #import figure artist\n",
        "fig = Figure()\n",
        "canvas = FigureCanvas(fig)\n",
        "\n",
        "#create 1000 random numbers using numpy\n",
        "import numpy as np\n",
        "x = np.random.randn(10000)\n",
        "\n",
        "ax=fig.add_subplot(111) # create an axes artist , 111 means 1 row 1 col and the first grid\n",
        "\n",
        "ax.hist(x,100) # generate a histogram of the 10000 numbers and 100 bins\n",
        "\n",
        "# add a title to the figure and save it\n",
        "ax.set_title('Normal distribution with $\\mu=0, \\sigma=1$')\n",
        "fig.savefig('matplotlib_histogram.png')\n",
        "\n"
      ],
      "execution_count": null,
      "outputs": []
    },
    {
      "cell_type": "markdown",
      "metadata": {
        "id": "1M0H4Gv_HoYD",
        "colab_type": "text"
      },
      "source": [
        "### Histogram using the Scripting Layer\n",
        "\n"
      ]
    },
    {
      "cell_type": "code",
      "metadata": {
        "id": "xPL_cS5WLgPS",
        "colab_type": "code",
        "colab": {
          "base_uri": "https://localhost:8080/",
          "height": 283
        },
        "outputId": "1cf8d027-54d9-427c-ddd4-013c1aae78cf"
      },
      "source": [
        "import matplotlib.pyplot as plt\n",
        "import numpy as np\n",
        "\n",
        "x=np.random.randn(10000)\n",
        "plt.hist(x,100)\n",
        "plt.title('Normal distribution with $\\mu=0, \\sigma=1$')\n",
        "plt.savefig('matplotlib_histogram.png')\n",
        "plt.show()"
      ],
      "execution_count": null,
      "outputs": [
        {
          "output_type": "display_data",
          "data": {
            "image/png": "[encoded data removed]",
            "text/plain": [
              "<Figure size 432x288 with 1 Axes>"
            ]
          },
          "metadata": {
            "tags": [],
            "needs_background": "light"
          }
        }
      ]
    },
    {
      "cell_type": "markdown",
      "metadata": {
        "id": "5AdYvpoIMnqj",
        "colab_type": "text"
      },
      "source": [
        "### Plot Function"
      ]
    },
    {
      "cell_type": "code",
      "metadata": {
        "id": "tuKmVmStL_Zp",
        "colab_type": "code",
        "colab": {
          "base_uri": "https://localhost:8080/",
          "height": 265
        },
        "outputId": "70113232-1ed8-437d-c2fe-fadf065c48f5"
      },
      "source": [
        "%matplotlib inline\n",
        "import matplotlib.pyplot as plt\n",
        "plt.plot(5,5,'o')\n",
        "plt.show()"
      ],
      "execution_count": null,
      "outputs": [
        {
          "output_type": "display_data",
          "data": {
            "image/png": "[encoded data removed]",
            "text/plain": [
              "<Figure size 432x288 with 1 Axes>"
            ]
          },
          "metadata": {
            "tags": [],
            "needs_background": "light"
          }
        }
      ]
    },
    {
      "cell_type": "markdown",
      "metadata": {
        "id": "zX5SRYqsNekj",
        "colab_type": "text"
      },
      "source": [
        "### Matplotlib - Pandas"
      ]
    },
    {
      "cell_type": "markdown",
      "metadata": {
        "id": "3g1n-e12NsW-",
        "colab_type": "text"
      },
      "source": [
        "#### Pandas has a built in implementation of matplotlib"
      ]
    },
    {
      "cell_type": "code",
      "metadata": {
        "id": "7-LF3dzPNCoT",
        "colab_type": "code",
        "colab": {}
      },
      "source": [
        "# create dictionary with required data\n",
        "India_China_dict = {\n",
        "    'Year' : ['1980','1981','1982','1983','1984'],\n",
        "    'India' : [8880,8670,8147,7338,5704],\n",
        "    'China' : [5123,6682,3308,1863,1527]\n",
        "\n",
        "}"
      ],
      "execution_count": 1,
      "outputs": []
    },
    {
      "cell_type": "code",
      "metadata": {
        "id": "hl2z73kwPojs",
        "colab_type": "code",
        "colab": {}
      },
      "source": [
        "import pandas as pd\n",
        "India_China_df = pd.DataFrame (India_China_dict) # convert dict to df"
      ],
      "execution_count": 2,
      "outputs": []
    },
    {
      "cell_type": "code",
      "metadata": {
        "id": "Whvu94ENQSkM",
        "colab_type": "code",
        "colab": {
          "base_uri": "https://localhost:8080/",
          "height": 204
        },
        "outputId": "e23debcc-8bfa-4b14-ae69-dda0662627df"
      },
      "source": [
        "India_China_df"
      ],
      "execution_count": 3,
      "outputs": [
        {
          "output_type": "execute_result",
          "data": {
            "text/html": [
              "<div>\n",
              "<style scoped>\n",
              "    .dataframe tbody tr th:only-of-type {\n",
              "        vertical-align: middle;\n",
              "    }\n",
              "\n",
              "    .dataframe tbody tr th {\n",
              "        vertical-align: top;\n",
              "    }\n",
              "\n",
              "    .dataframe thead th {\n",
              "        text-align: right;\n",
              "    }\n",
              "</style>\n",
              "<table border=\"1\" class=\"dataframe\">\n",
              "  <thead>\n",
              "    <tr style=\"text-align: right;\">\n",
              "      <th></th>\n",
              "      <th>Year</th>\n",
              "      <th>India</th>\n",
              "      <th>China</th>\n",
              "    </tr>\n",
              "  </thead>\n",
              "  <tbody>\n",
              "    <tr>\n",
              "      <th>0</th>\n",
              "      <td>1980</td>\n",
              "      <td>8880</td>\n",
              "      <td>5123</td>\n",
              "    </tr>\n",
              "    <tr>\n",
              "      <th>1</th>\n",
              "      <td>1981</td>\n",
              "      <td>8670</td>\n",
              "      <td>6682</td>\n",
              "    </tr>\n",
              "    <tr>\n",
              "      <th>2</th>\n",
              "      <td>1982</td>\n",
              "      <td>8147</td>\n",
              "      <td>3308</td>\n",
              "    </tr>\n",
              "    <tr>\n",
              "      <th>3</th>\n",
              "      <td>1983</td>\n",
              "      <td>7338</td>\n",
              "      <td>1863</td>\n",
              "    </tr>\n",
              "    <tr>\n",
              "      <th>4</th>\n",
              "      <td>1984</td>\n",
              "      <td>5704</td>\n",
              "      <td>1527</td>\n",
              "    </tr>\n",
              "  </tbody>\n",
              "</table>\n",
              "</div>"
            ],
            "text/plain": [
              "   Year  India  China\n",
              "0  1980   8880   5123\n",
              "1  1981   8670   6682\n",
              "2  1982   8147   3308\n",
              "3  1983   7338   1863\n",
              "4  1984   5704   1527"
            ]
          },
          "metadata": {
            "tags": []
          },
          "execution_count": 3
        }
      ]
    },
    {
      "cell_type": "code",
      "metadata": {
        "id": "fTL8XQUiQB2h",
        "colab_type": "code",
        "colab": {
          "base_uri": "https://localhost:8080/",
          "height": 312
        },
        "outputId": "324b1bf4-4c0e-4002-b4b6-05195c1a6dd2"
      },
      "source": [
        "India_China_df.plot(kind=\"line\", x='Year', title='India and China immigration to Canada ') # Lineplot\n"
      ],
      "execution_count": 8,
      "outputs": [
        {
          "output_type": "execute_result",
          "data": {
            "text/plain": [
              "<matplotlib.axes._subplots.AxesSubplot at 0x7ff948d9cfd0>"
            ]
          },
          "metadata": {
            "tags": []
          },
          "execution_count": 8
        },
        {
          "output_type": "display_data",
          "data": {
            "image/png": "[encoded data removed]",
            "text/plain": [
              "<Figure size 432x288 with 1 Axes>"
            ]
          },
          "metadata": {
            "tags": [],
            "needs_background": "light"
          }
        }
      ]
    },
    {
      "cell_type": "code",
      "metadata": {
        "id": "c6maUj-WQP8P",
        "colab_type": "code",
        "colab": {
          "base_uri": "https://localhost:8080/",
          "height": 298
        },
        "outputId": "252f4b0b-6f4b-4dcf-a5cb-161c7a4e5cb9"
      },
      "source": [
        "India_China_df[\"India\"].plot(kind=\"hist\", title='Indian immigrants to Canada ') # histogram"
      ],
      "execution_count": 11,
      "outputs": [
        {
          "output_type": "execute_result",
          "data": {
            "text/plain": [
              "<matplotlib.axes._subplots.AxesSubplot at 0x7ff94933c780>"
            ]
          },
          "metadata": {
            "tags": []
          },
          "execution_count": 11
        },
        {
          "output_type": "display_data",
          "data": {
            "image/png": "[encoded data removed]",
            "text/plain": [
              "<Figure size 432x288 with 1 Axes>"
            ]
          },
          "metadata": {
            "tags": [],
            "needs_background": "light"
          }
        }
      ]
    },
    {
      "cell_type": "code",
      "metadata": {
        "id": "_gHyScawueUH",
        "colab_type": "code",
        "colab": {}
      },
      "source": [
        ""
      ],
      "execution_count": null,
      "outputs": []
    }
  ]
}